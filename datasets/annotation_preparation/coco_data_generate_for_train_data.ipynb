{
 "cells": [
  {
   "cell_type": "code",
   "execution_count": 1,
   "metadata": {},
   "outputs": [],
   "source": [
    "import numpy as np\n",
    "import pandas as pd\n",
    "import mrcfile\n",
    "import cv2\n",
    "import glob\n",
    "from matplotlib import pyplot as plt, patches\n",
    "\n",
    "import math\n",
    "%matplotlib inline\n",
    "from moviepy.Clip import *\n",
    "import os\n",
    "import csv\n",
    "import json\n",
    "import argparse\n",
    "import numpy as np"
   ]
  },
  {
   "cell_type": "code",
   "execution_count": 2,
   "metadata": {},
   "outputs": [],
   "source": [
    "phase = 'train'\n",
    "output_dir = '/bml/ashwin/ViTPicker/train_val_test_data/annotations/'\n",
    "mrc_file_path = '/bml/ashwin/ViTPicker/train_val_test_data/train/'\n",
    "coord_file_path  = '/bml/ashwin/ViTPicker/train_val_test_data/particle_coordinates/'\n",
    "\n"
   ]
  },
  {
   "cell_type": "code",
   "execution_count": 3,
   "metadata": {},
   "outputs": [],
   "source": [
    "def create_json_dataset(phase, mrc_file_path, coord_file_path, output_dir):\n",
    "    dataset = {'info': [], 'categories': [] , 'images': [],  'annotations': []}\n",
    "    classes = ['particle']\n",
    "    csv_file_not_count = 0\n",
    "    anno_id = 1\n",
    "\n",
    "    dataset['info'].append({\n",
    "        'description': 'coco dataset for Cryo EM micrographs', \n",
    "        'contributor': 'Ashwin', \n",
    "        'year': '2023'})\n",
    "\n",
    "    for i, cls in enumerate(classes, 1):\n",
    "        dataset['categories'].append({'id': i, 'name': cls, 'supercategory': ''})\n",
    "\n",
    "    file_names = [f for f in sorted(os.listdir(mrc_file_path))]\n",
    "\n",
    "    for image_id, file_name in enumerate(file_names):\n",
    "        # write image id, name, width and height\n",
    "        image_path = mrc_file_path + file_name\n",
    "        read_image = cv2.imread(image_path)\n",
    "        IMG_HEIGHT, IMG_WIDTH, channel = read_image.shape\n",
    "        dataset['images'].append({\n",
    "                          'id': image_id,\n",
    "                          'file_name': file_name[:-4] + '.jpg',\n",
    "                          'width': IMG_WIDTH,\n",
    "                          'height': IMG_HEIGHT})\n",
    "\n",
    "        #read particle coordinates\n",
    "        particle_coord_path = os.path.join(coord_file_path, '') + file_name[:-4] + '.csv'\n",
    "        if not os.path.exists(particle_coord_path):\n",
    "            print(f\"coordinates not avaibale for {file_name} ----> Skipping Image ID : {image_id}\")\n",
    "            dataset['annotations'].append({\n",
    "                'id': anno_id,  #annotation id of its own\n",
    "                'category_id': 1,  # particle class\n",
    "                'iscrowd': 0,\n",
    "                'area': 0,\n",
    "                'image_id': image_id,\n",
    "                'bbox': [0,0,0,0],\n",
    "                'segmentation': []\n",
    "            })\n",
    "            anno_id += 1\n",
    "            csv_file_not_count += 1\n",
    "        \n",
    "        else:\n",
    "            boxes = pd.read_csv(particle_coord_path, usecols=[0,1,2])\n",
    "            for i, box in boxes.iterrows():\n",
    "                box_x_coord = int(box['X-Coordinate'] - box['Diameter'] / 2 )#top left x coord\n",
    "                box_y_coord = int(box['Y-Coordinate'] - box['Diameter'] / 2 ) #top left y coord\n",
    "                BOX_WIDTH = int(box['Diameter'])  \n",
    "\n",
    "                dataset['annotations'].append({\n",
    "                    'id': anno_id,  #annotation id of its own\n",
    "                    'category_id': 1,  # particle class\n",
    "                    'iscrowd': 1,\n",
    "                    'area': BOX_WIDTH * BOX_WIDTH,\n",
    "                    'image_id': image_id,\n",
    "                    'bbox': [box_x_coord, box_y_coord, BOX_WIDTH, BOX_WIDTH],\n",
    "                    'segmentation': []\n",
    "                })\n",
    "                anno_id += 1\n",
    "\n",
    "\n",
    "    print(\"------------------------  STATS   ---------------------\")\n",
    "    print(f\"Total Micrographs : {len(file_names)}\")\n",
    "    print(f\"CSV file not available for : {csv_file_not_count} micrographs\")\n",
    "    print(\"------------------------     ---------------------\")\n",
    "\n",
    "    # save json annotation results\n",
    "    json_name = os.path.join(output_dir, 'instances_{}.json'.format(phase))\n",
    "    print(\"json_name:\", json_name)\n",
    "    with open(json_name, 'w') as f:\n",
    "        json.dump(dataset, f)"
   ]
  },
  {
   "cell_type": "code",
   "execution_count": 4,
   "metadata": {},
   "outputs": [
    {
     "name": "stdout",
     "output_type": "stream",
     "text": [
      "------------------------  STATS   ---------------------\n",
      "Total Micrographs : 10\n",
      "CSV file not available for : 0 micrographs\n",
      "------------------------     ---------------------\n",
      "json_name: /bml/ashwin/ViTPicker/small_10_3_json_data_no_coord_missing/annotations/instances_train.json\n"
     ]
    }
   ],
   "source": [
    "create_json_dataset(phase, mrc_file_path, coord_file_path, output_dir)\n"
   ]
  },
  {
   "cell_type": "code",
   "execution_count": null,
   "metadata": {},
   "outputs": [],
   "source": []
  },
  {
   "cell_type": "code",
   "execution_count": null,
   "metadata": {},
   "outputs": [],
   "source": []
  },
  {
   "cell_type": "code",
   "execution_count": null,
   "metadata": {},
   "outputs": [],
   "source": []
  },
  {
   "cell_type": "code",
   "execution_count": null,
   "metadata": {},
   "outputs": [],
   "source": []
  }
 ],
 "metadata": {
  "kernelspec": {
   "display_name": "Python [conda env:ViTPicker] *",
   "language": "python",
   "name": "conda-env-ViTPicker-py"
  },
  "language_info": {
   "codemirror_mode": {
    "name": "ipython",
    "version": 3
   },
   "file_extension": ".py",
   "mimetype": "text/x-python",
   "name": "python",
   "nbconvert_exporter": "python",
   "pygments_lexer": "ipython3",
   "version": "3.7.16"
  }
 },
 "nbformat": 4,
 "nbformat_minor": 2
}
